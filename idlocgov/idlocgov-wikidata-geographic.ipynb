{
 "cells": [
  {
   "cell_type": "code",
   "execution_count": null,
   "metadata": {
    "collapsed": true
   },
   "outputs": [],
   "source": [
    "import requests\n",
    "import pprint\n",
    "import pandas as pd\n",
    "import re\n",
    "from xml.etree import ElementTree as ET"
   ]
  },
  {
   "cell_type": "code",
   "execution_count": null,
   "metadata": {
    "collapsed": true
   },
   "outputs": [],
   "source": [
    "# From Wikidata, get everything that is a subclass* of geographic region (Q82794) \n",
    "\n",
    "url = 'https://query.wikidata.org/sparql'\n",
    "query = \"\"\"\n",
    "SELECT ?item ?itemLabel WHERE {\n",
    "  #?item wdt:P244 ?id.\n",
    "  ?item wdt:P279* wd:Q82794.\n",
    "        \n",
    "  SERVICE wikibase:label { bd:serviceParam wikibase:language \"en\". }\n",
    "  }\n",
    "\"\"\"\n",
    "classes_raw = requests.get(url, params = {'format': 'json', 'query': query})\n",
    "classes_json = classes_raw.json()"
   ]
  },
  {
   "cell_type": "code",
   "execution_count": null,
   "metadata": {},
   "outputs": [],
   "source": [
    "# From Wikidata, for each of those subclasses, get all records that \n",
    "# are an instance of that subclass AND that have an LC authority ID. \n",
    "# Commented out is a step to then grab the id.loc.gov records and its \n",
    "# MADS. This slowed the script down too much, so is separated to next step.\n",
    "\n",
    "LCitems = []\n",
    "\n",
    "classes = classes_json['results']['bindings']\n",
    "for x in classes:\n",
    "    uri = x['item']['value']\n",
    "    QID = re.sub('http://www.wikidata.org/entity/','',uri)\n",
    "    queryLC = \"\"\"\n",
    "    SELECT ?item ?itemLabel ?id WHERE {\n",
    "      ?item wdt:P244 ?id.\n",
    "      ?item wdt:P31/wdt:P279 wd:\"\"\"+QID+\"\"\" .\n",
    "\n",
    "      SERVICE wikibase:label { bd:serviceParam wikibase:language \"en\". }\n",
    "      }\n",
    "    \"\"\"\n",
    "    LCitems_raw = requests.get(url, params = {'format': 'json', 'query': queryLC})\n",
    "    LCitems_json = LCitems_raw.json()\n",
    "    for y in LCitems_json['results']['bindings']:\n",
    "        LCitems.append(y)\n",
    "        LCID = y['id']['value']\n",
    "        y['lcid'] = LCID\n",
    "        if LCID.startswith('sh'):\n",
    "            LCIDurl = 'http://id.loc.gov/authorities/subjects/'+LCID+'.rdf'\n",
    "            y['lcidurl'] = LCIDurl\n",
    "        elif LCID.startswith('n'):\n",
    "            LCIDurl = 'http://id.loc.gov/authorities/names/'+LCID+'.rdf'\n",
    "            y['lcidurl'] = LCIDurl\n",
    "        else:\n",
    "            print(LCID + ' What authority is this?')\n",
    "        #LCrdf = requests.get(LCIDurl)\n",
    "        \n",
    "        #LCrdf = requests.get(LCIDurl)\n",
    "        #tree = ET.fromstring(LCrdf.content)\n",
    "        #for child in tree:\n",
    "            #y['mads'] = (child.tag)       \n",
    "\n",
    "df = pd.DataFrame(LCitems)\n",
    "df\n"
   ]
  },
  {
   "cell_type": "code",
   "execution_count": null,
   "metadata": {
    "collapsed": true
   },
   "outputs": [],
   "source": [
    "# Save result to a file named \"Wikidata.csv\"\n",
    "\n",
    "df.to_csv('Wikidata.csv', encoding='utf-8')"
   ]
  },
  {
   "cell_type": "code",
   "execution_count": null,
   "metadata": {},
   "outputs": [],
   "source": [
    "# Retreive the RDF XML from id.loc.gov and add \n",
    "# a column of MADS values. Print the LCID handles \n",
    "# as each is completed. \n",
    "# If the process stops, check the index of the \n",
    "# last item, and begin again at that index\n",
    "#e.g.:   for index,row in df.iloc[225292:].iterrows():\n",
    "\n",
    "\n",
    "for index,row in df.iloc.iterrows():\n",
    "    LCIDurl = row[5]\n",
    "    print(LCIDurl)\n",
    "    LCrdf = requests.get(LCIDurl)\n",
    "    tree = ET.fromstring(LCrdf.content)\n",
    "    for child in tree: # as far as i am aware, there is only ever 1 child. \n",
    "        print(child.tag)\n",
    "        df.loc[index,'mads'] = child.tag"
   ]
  },
  {
   "cell_type": "code",
   "execution_count": null,
   "metadata": {
    "collapsed": true
   },
   "outputs": [],
   "source": [
    "df.to_csv(r'LCItems_MADsfrom225292.csv', encoding='utf-8')"
   ]
  }
 ],
 "metadata": {
  "kernelspec": {
   "display_name": "Python 3",
   "language": "python",
   "name": "python3"
  },
  "language_info": {
   "codemirror_mode": {
    "name": "ipython",
    "version": 3
   },
   "file_extension": ".py",
   "mimetype": "text/x-python",
   "name": "python",
   "nbconvert_exporter": "python",
   "pygments_lexer": "ipython3",
   "version": "3.6.1"
  }
 },
 "nbformat": 4,
 "nbformat_minor": 2
}
